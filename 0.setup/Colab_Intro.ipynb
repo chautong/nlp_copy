{
  "cells": [
    {
      "cell_type": "markdown",
      "metadata": {
        "id": "LHwApS9faNtL"
      },
      "source": [
        "# What is Colab?"
      ]
    },
    {
      "cell_type": "markdown",
      "metadata": {
        "id": "x5OxnvOFiPW-"
      },
      "source": [
        "* Colab is a free [Jupyter Notebook](https://jupyter.org/)\n",
        "environment hosted by Google that allows you to develop and run code and analyze data using computing resources in the cloud.  In this class, we'll typically use it for programming in Python.\n",
        "\n",
        "\n",
        "* Colab Notebooks (like this one) consist of \"Cells\" that help organize code and text. From within Colab, you can add a Code Cell or a Text Cell by clicking the \"+ Code\" or \"+ Text\" buttons on the top left.\n",
        "\n",
        "\n",
        "* Google provides lots more details and tips about Colab in their [tutorials](https://colab.research.google.com/notebooks/welcome.ipynb).  If you are new to Colab, you might find these tutorials helpful to get up to speed.\n",
        "\n",
        "\n",
        "* To execute the code in a cell, use the key-command `shift+enter`. Try that out on the code cell below"
      ]
    },
    {
      "cell_type": "code",
      "execution_count": null,
      "metadata": {
        "id": "G8xrN0Fp4W8Z"
      },
      "outputs": [],
      "source": [
        "5 + 5"
      ]
    },
    {
      "cell_type": "markdown",
      "metadata": {
        "id": "uSU4zkGNk2d7"
      },
      "source": [
        "# Creating a Colab Notebook"
      ]
    },
    {
      "cell_type": "markdown",
      "metadata": {
        "id": "aX9E3gEQk9Ww"
      },
      "source": [
        "* You need to be signed into a Google account in order to create, edit, and save Colab Notebooks.  You can create a new Notebook and find your saved Notebooks by going to https://colab.research.google.com/ while logged into your Google account.\n",
        "\n",
        "\n",
        "* You can use your MU Gmail account rather than a personal Gmail for this class in order to avoid confusion.  When viewing a notebook, you can make sure that you're using the right Gmail account by clicking on your profile icon at the top right, and switch accounts if necessary.\n",
        "\n",
        "\n",
        "* Saved notebooks will then be stored in your account on Google Drive.  "
      ]
    },
    {
      "cell_type": "markdown",
      "metadata": {
        "id": "Adp_2QRGnf6q"
      },
      "source": [
        "# Opening a Notebook in Colab / Viewing a Colab"
      ]
    },
    {
      "cell_type": "markdown",
      "metadata": {
        "id": "qwEEzj12nnhT"
      },
      "source": [
        "* Jupyter Notebooks are files with the extension \".ipynb\".When you open a Notebook in Colab, you can run the code. To make edits and save your changes, I recommend that you save your own copy in Drive first (Click on File->'Save a copy in Drive' in the menu.)  **If you are editing a copy of a Colab that you opened from Github, Your edits will only be saved once you save a copy in your Google Drive.** You'll be prompted to do this if you try to save and haven't already done this step.\n",
        "\n",
        "\n",
        "* In order to get started on a lab exercise, you'll want to open the starter notebook in Colab and then save a copy into your Google Drive so that you can make changes to it."
      ]
    },
    {
      "cell_type": "markdown",
      "metadata": {
        "id": "Q8B8Motvs7_o"
      },
      "source": [
        "# What is a Runtime?"
      ]
    },
    {
      "cell_type": "markdown",
      "metadata": {
        "id": "Eg1Gb4jDtAqQ"
      },
      "source": [
        "* Each time you open a Notebook in Colab, you are actually connecting to a computer (a server running the Linux operating system) in the Cloud, hosted by Google. When you execute your code, it's actually running on that computer and sending back any results to display in your browser.  In Colab, this connection between a Google server and your browser is called a 'Runtime'.\n",
        "\n",
        "\n",
        "* Because Google provides these servers free to Colab users, running code on Colab lets you take advantage of powerful hardware to run computations faster than you could on a laptop, for example.\n",
        "\n",
        "\n",
        "* Because you need to connect to a \"Runtime\" in order to use Colab, each time you connect, you'll need to re-run setup code each time you re-connect (such as installing Python libraries or downloading data). This can take a few minutes, but it's a necessary trade-off in order to be able to use these free computational resources."
      ]
    },
    {
      "cell_type": "markdown",
      "metadata": {
        "id": "4SXW_o2IspPO"
      },
      "source": [
        "# Downloading Data"
      ]
    },
    {
      "cell_type": "markdown",
      "metadata": {
        "id": "F6y4nB-mssDQ"
      },
      "source": [
        "* To work with data in Colab, we need to download the data to the computer you're connecting to in your Runtime. Data can be downloaded using the `!wget` command or by connecting to files on Google Drive.\n",
        "\n",
        "\n",
        "* When possible, data for course assignments will be uploaded to the course page."
      ]
    },
    {
      "cell_type": "code",
      "execution_count": null,
      "metadata": {
        "id": "tTDnmG42lxKS"
      },
      "outputs": [],
      "source": [
        "!wget --no-check-certificate https://raw.githubusercontent.com/chautong/nlp_copy/main/0.setup/example_data.txt\n",
        "!ls"
      ]
    },
    {
      "cell_type": "markdown",
      "metadata": {
        "id": "Wdjq8WTp3teF"
      },
      "source": [
        "* Let's open a file from the course Github using Python and print out the contents."
      ]
    },
    {
      "cell_type": "code",
      "execution_count": null,
      "metadata": {
        "id": "oRCQFiJe3kiQ"
      },
      "outputs": [],
      "source": [
        "open('example_data.txt').read().split('\\n')"
      ]
    },
    {
      "cell_type": "markdown",
      "metadata": {
        "id": "jIIPppLCXPLj"
      },
      "source": [
        "# Enabling GPU\n",
        "\n"
      ]
    },
    {
      "cell_type": "markdown",
      "metadata": {
        "id": "_WGIRKTQaD47"
      },
      "source": [
        "* For some tasks, you might want to enable Colab's GPU, which allows neural models to train much faster (~20x!) than on a CPU.\n",
        "\n",
        "\n",
        "* GPU is not enabled by default on Colab.  To do so, perform the following:\n",
        "    \n",
        "    * Go to Edit -> Notebook Settings\n",
        "\n",
        "    * Select \"Hardware Accelerator\"\n",
        "\n",
        "    * Select \"GPU\"\n",
        "\n",
        "\n",
        "* In order to confirm GPU is enabled, run the following command in your Colab notebook:"
      ]
    },
    {
      "cell_type": "code",
      "execution_count": null,
      "metadata": {
        "id": "a4mEXvEQaD48"
      },
      "outputs": [],
      "source": [
        "import tensorflow as tf\n",
        "tf.config.list_physical_devices('GPU')"
      ]
    },
    {
      "cell_type": "markdown",
      "metadata": {
        "id": "w7jgBtSJaD4_"
      },
      "source": [
        "* If you see something like the following, GPU is enabled.\n",
        "\n",
        "```\n",
        "[PhysicalDevice(name='/physical_device:GPU:0', device_type='GPU')]\n",
        "```\n",
        "\n",
        "\n",
        "* If, however, you see this, GPU is NOT enabled.\n",
        "\n",
        "```\n",
        "[]\n",
        "```"
      ]
    },
    {
      "cell_type": "code",
      "execution_count": null,
      "metadata": {
        "id": "oLO6-fCbaD4_"
      },
      "outputs": [],
      "source": []
    }
  ],
  "metadata": {
    "colab": {
      "provenance": [],
      "toc_visible": true
    },
    "kernelspec": {
      "display_name": "Python 3 (ipykernel)",
      "language": "python",
      "name": "python3"
    },
    "language_info": {
      "codemirror_mode": {
        "name": "ipython",
        "version": 3
      },
      "file_extension": ".py",
      "mimetype": "text/x-python",
      "name": "python",
      "nbconvert_exporter": "python",
      "pygments_lexer": "ipython3",
      "version": "3.11.4"
    }
  },
  "nbformat": 4,
  "nbformat_minor": 0
}