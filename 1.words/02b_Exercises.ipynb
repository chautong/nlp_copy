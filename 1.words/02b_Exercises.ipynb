{
 "cells": [
  {
   "cell_type": "markdown",
   "id": "a133b0b6",
   "metadata": {},
   "source": [
    "# Exercises \n",
    "Take the lessons from the last two notebooks and apply them to the following exercies "
   ]
  },
  {
   "cell_type": "markdown",
   "id": "92308f5c",
   "metadata": {},
   "source": [
    "## Corpus \n",
    "For the following exercies, use this paragraph as the corpus:\n",
    "\n",
    "```Natural Language Processing (NLP) has revolutionized social science research, offering novel tools to analyze textual data and answer critical questions about human behavior and societal dynamics. Sentiment analysis, a key NLP application, enables researchers to gauge public opinion and emotional tone in large datasets, particularly on social media. NLP also plays a pivotal role in studying language use and communication patterns, helping uncover societal trends, cultural shifts, and language evolution. Social media platforms serve as rich sources for NLP applications, allowing researchers to examine collective behavior, online identity formation, and real-time public reactions to events. Furthermore, NLP automates the extraction of information from unstructured data, streamlining content analysis processes. While NLP presents vast opportunities, ethical considerations regarding privacy and algorithmic biases demand careful attention to ensure responsible and unbiased research practices in the rapidly evolving landscape of digital social science..```"
   ]
  },
  {
   "cell_type": "code",
   "execution_count": 1,
   "id": "26f32d04",
   "metadata": {},
   "outputs": [],
   "source": [
    "corpus = \"\"\"Natural Language Processing (NLP) has revolutionized social science research, offering novel tools to analyze textual data and answer critical questions about human behavior and societal dynamics. Sentiment analysis, a key NLP application, enables researchers to gauge public opinion and emotional tone in large datasets, particularly on social media. NLP also plays a pivotal role in studying language use and communication patterns, helping uncover societal trends, cultural shifts, and language evolution. Social media platforms serve as rich sources for NLP applications, allowing researchers to examine collective behavior, online identity formation, and real-time public reactions to events. Furthermore, NLP automates the extraction of information from unstructured data, streamlining content analysis processes. While NLP presents vast opportunities, ethical considerations regarding privacy and algorithmic biases demand careful attention to ensure responsible and unbiased research practices in the rapidly evolving landscape of digital social science.\"\"\""
   ]
  },
  {
   "cell_type": "code",
   "execution_count": 2,
   "id": "e33ce60a",
   "metadata": {},
   "outputs": [
    {
     "name": "stderr",
     "output_type": "stream",
     "text": [
      "[nltk_data] Downloading package punkt to /Users/chautong/nltk_data...\n",
      "[nltk_data]   Package punkt is already up-to-date!\n",
      "[nltk_data] Downloading package stopwords to\n",
      "[nltk_data]     /Users/chautong/nltk_data...\n",
      "[nltk_data]   Package stopwords is already up-to-date!\n"
     ]
    },
    {
     "data": {
      "text/plain": [
       "True"
      ]
     },
     "execution_count": 2,
     "metadata": {},
     "output_type": "execute_result"
    }
   ],
   "source": [
    "import nltk\n",
    "nltk.download('punkt') # required dependency\n",
    "nltk.download('stopwords') # required dependency"
   ]
  },
  {
   "cell_type": "markdown",
   "id": "a0351350",
   "metadata": {},
   "source": [
    "Using the corpus defined above, write a function that will:\n",
    "1. Remove all stopwords using the built in `english` stopwords \n",
    "2. Tokenize the corpus using `nltk`'s `word_tokenize`\n",
    "\n",
    "Complete the lines of code designed by the `FILL_IN` keywords"
   ]
  },
  {
   "cell_type": "code",
   "execution_count": null,
   "id": "ffad3c67",
   "metadata": {},
   "outputs": [],
   "source": [
    "## Fill in code in the appropriate spots\n",
    "import nltk\n",
    "# from nltk.corpus import FILL_IN\n",
    "def cleanupDoc(s):\n",
    "#      stopset = set(stopwords.words(FILL_IN))\n",
    "#      tokens = nltk.FILL_IN(s)\n",
    "     cleanup = \" \".join(filter(lambda word: word not in stopset, s.split()))\n",
    "     return cleanup"
   ]
  },
  {
   "cell_type": "code",
   "execution_count": null,
   "id": "8564c110",
   "metadata": {},
   "outputs": [],
   "source": [
    "# print(FILL_IN)"
   ]
  },
  {
   "cell_type": "code",
   "execution_count": null,
   "id": "59a4c002",
   "metadata": {},
   "outputs": [],
   "source": [
    "no_stopwords = cleanupDoc(corpus)\n",
    "print(no_stopwords)"
   ]
  },
  {
   "cell_type": "markdown",
   "id": "25aa0121",
   "metadata": {},
   "source": [
    "Examining the output, do you think the process of removing the stopwords was effective or not? Any additional stopwords that could be removed without substantively changing the meaning? "
   ]
  },
  {
   "cell_type": "markdown",
   "id": "7e5d79cc",
   "metadata": {},
   "source": [
    "Using the now clean corpus, leverage the `PorterStemmer` to reduce words to their root"
   ]
  },
  {
   "cell_type": "code",
   "execution_count": null,
   "id": "41d8ef23",
   "metadata": {},
   "outputs": [],
   "source": [
    "## Fill in code in the appropriate spots\n",
    "import nltk\n",
    "import pprint\n",
    "# from nltk.stem import #FILL_IN\n",
    "from functools import reduce\n",
    "\n",
    "def stemmer_(s):\n",
    "    # Tokenize first \n",
    "#     tokens = FILL_IN\n",
    "    # Instantiate an instance of the PorterStemmer\n",
    "#     port_stemmer = FILL_IN\n",
    "    cleanup = reduce(lambda x, y: x + \" \" + port_stemmer.stem(y), tokens, \"\")\n",
    "    return cleanup"
   ]
  },
  {
   "cell_type": "code",
   "execution_count": null,
   "id": "d2a009f4",
   "metadata": {},
   "outputs": [],
   "source": [
    "# Apply it to the cleaned corput\n",
    "# FILL_IN(no_stopwords)"
   ]
  },
  {
   "cell_type": "markdown",
   "id": "56433776",
   "metadata": {},
   "source": [
    "Again, looking closely at the output, are there any words that were not properly stemmed?"
   ]
  }
 ],
 "metadata": {
  "kernelspec": {
   "display_name": "Python 3 (ipykernel)",
   "language": "python",
   "name": "python3"
  },
  "language_info": {
   "codemirror_mode": {
    "name": "ipython",
    "version": 3
   },
   "file_extension": ".py",
   "mimetype": "text/x-python",
   "name": "python",
   "nbconvert_exporter": "python",
   "pygments_lexer": "ipython3",
   "version": "3.11.4"
  }
 },
 "nbformat": 4,
 "nbformat_minor": 5
}
